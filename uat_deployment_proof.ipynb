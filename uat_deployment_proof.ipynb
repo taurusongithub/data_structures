{
 "cells": [
  {
   "cell_type": "code",
   "execution_count": 1,
   "id": "4f59a9a6-b33a-4abe-b171-1b34c3e6597c",
   "metadata": {
    "execution": {
     "iopub.execute_input": "2021-08-17T18:43:52.105463Z",
     "iopub.status.busy": "2021-08-17T18:43:52.102076Z",
     "iopub.status.idle": "2021-08-17T18:43:52.107114Z",
     "shell.execute_reply": "2021-08-17T18:43:52.106567Z"
    },
    "tags": []
   },
   "outputs": [],
   "source": [
    "from data_structures.elements import Number\n",
    "from data_structures.stacks import Stack\n",
    "from data_structures.queues import Queue\n"
   ]
  },
  {
   "cell_type": "code",
   "execution_count": 2,
   "id": "ef846dc1-38fa-4ba0-9a73-b1aa49577960",
   "metadata": {
    "execution": {
     "iopub.execute_input": "2021-08-17T18:43:52.112037Z",
     "iopub.status.busy": "2021-08-17T18:43:52.110740Z",
     "iopub.status.idle": "2021-08-17T18:43:52.112674Z",
     "shell.execute_reply": "2021-08-17T18:43:52.113154Z"
    },
    "tags": []
   },
   "outputs": [],
   "source": [
    "x = Number(2.1)\n"
   ]
  },
  {
   "cell_type": "code",
   "execution_count": 3,
   "id": "24473c89-2e79-441b-86df-c9817c4a84c9",
   "metadata": {
    "execution": {
     "iopub.execute_input": "2021-08-17T18:43:52.117443Z",
     "iopub.status.busy": "2021-08-17T18:43:52.116639Z",
     "iopub.status.idle": "2021-08-17T18:43:52.118573Z",
     "shell.execute_reply": "2021-08-17T18:43:52.118998Z"
    },
    "tags": []
   },
   "outputs": [],
   "source": [
    "stack = Stack()\n"
   ]
  },
  {
   "cell_type": "code",
   "execution_count": 4,
   "id": "11cebe1f-a284-43a2-bf76-dfae5128f54f",
   "metadata": {
    "execution": {
     "iopub.execute_input": "2021-08-17T18:43:52.123758Z",
     "iopub.status.busy": "2021-08-17T18:43:52.122643Z",
     "iopub.status.idle": "2021-08-17T18:43:52.124440Z",
     "shell.execute_reply": "2021-08-17T18:43:52.125307Z"
    },
    "tags": []
   },
   "outputs": [],
   "source": [
    "stack.push(x)\n",
    "stack.push(3)\n",
    "stack.push(\"asd\")\n"
   ]
  },
  {
   "cell_type": "code",
   "execution_count": 5,
   "id": "1f5dddc4-343b-4ab9-a2af-62f1fb8c88f9",
   "metadata": {
    "execution": {
     "iopub.execute_input": "2021-08-17T18:43:52.135049Z",
     "iopub.status.busy": "2021-08-17T18:43:52.134353Z",
     "iopub.status.idle": "2021-08-17T18:43:52.137214Z",
     "shell.execute_reply": "2021-08-17T18:43:52.137648Z"
    },
    "tags": []
   },
   "outputs": [
    {
     "data": {
      "text/plain": [
       "Stack Elements: 2.1; 3; asd"
      ]
     },
     "execution_count": 5,
     "metadata": {},
     "output_type": "execute_result"
    }
   ],
   "source": [
    "stack\n"
   ]
  },
  {
   "cell_type": "code",
   "execution_count": 6,
   "id": "877ea0da-1d1d-4a03-adc1-83e54ddae78e",
   "metadata": {
    "execution": {
     "iopub.execute_input": "2021-08-17T18:43:52.142115Z",
     "iopub.status.busy": "2021-08-17T18:43:52.139870Z",
     "iopub.status.idle": "2021-08-17T18:43:52.144184Z",
     "shell.execute_reply": "2021-08-17T18:43:52.144620Z"
    },
    "tags": []
   },
   "outputs": [
    {
     "data": {
      "text/plain": [
       "'asd'"
      ]
     },
     "execution_count": 6,
     "metadata": {},
     "output_type": "execute_result"
    }
   ],
   "source": [
    "stack.pop()\n"
   ]
  },
  {
   "cell_type": "code",
   "execution_count": 7,
   "id": "f0fe3c5b-0f99-458d-a4cf-c57dcf6edc65",
   "metadata": {
    "execution": {
     "iopub.execute_input": "2021-08-17T18:43:52.148419Z",
     "iopub.status.busy": "2021-08-17T18:43:52.147834Z",
     "iopub.status.idle": "2021-08-17T18:43:52.150606Z",
     "shell.execute_reply": "2021-08-17T18:43:52.150014Z"
    }
   },
   "outputs": [],
   "source": [
    "q = Queue()\n"
   ]
  },
  {
   "cell_type": "code",
   "execution_count": 8,
   "id": "f598e011-7b30-408b-b719-47804c7968bd",
   "metadata": {
    "execution": {
     "iopub.execute_input": "2021-08-17T18:43:52.156928Z",
     "iopub.status.busy": "2021-08-17T18:43:52.155939Z",
     "iopub.status.idle": "2021-08-17T18:43:52.158679Z",
     "shell.execute_reply": "2021-08-17T18:43:52.159190Z"
    }
   },
   "outputs": [
    {
     "data": {
      "text/plain": [
       "1"
      ]
     },
     "execution_count": 8,
     "metadata": {},
     "output_type": "execute_result"
    }
   ],
   "source": [
    "q.push(1)\n",
    "q.push(\"asd\")\n",
    "q.push(Number(3.14))\n",
    "q.push(Stack())\n",
    "q.push(\"last\")\n",
    "q.pop()\n"
   ]
  },
  {
   "cell_type": "code",
   "execution_count": 9,
   "id": "e77be3d9-a95c-472d-945c-61f528dbecd2",
   "metadata": {
    "execution": {
     "iopub.execute_input": "2021-08-17T18:43:52.164301Z",
     "iopub.status.busy": "2021-08-17T18:43:52.163276Z",
     "iopub.status.idle": "2021-08-17T18:43:52.166567Z",
     "shell.execute_reply": "2021-08-17T18:43:52.166093Z"
    }
   },
   "outputs": [
    {
     "data": {
      "text/plain": [
       "Queue elements:\n",
       "\tInput stack:\n",
       "\t\tEmpty Stack\n",
       "\tOutput stack:\n",
       "\t\tStack Elements: last; Empty Stack; 3.14; asd"
      ]
     },
     "execution_count": 9,
     "metadata": {},
     "output_type": "execute_result"
    }
   ],
   "source": [
    "q\n"
   ]
  }
 ],
 "metadata": {
  "kernelspec": {
   "display_name": "Python 3 (ipykernel)",
   "language": "python",
   "name": "python3"
  },
  "language_info": {
   "codemirror_mode": {
    "name": "ipython",
    "version": 3
   },
   "file_extension": ".py",
   "mimetype": "text/x-python",
   "name": "python",
   "nbconvert_exporter": "python",
   "pygments_lexer": "ipython3",
   "version": "3.9.6"
  }
 },
 "nbformat": 4,
 "nbformat_minor": 5
}
