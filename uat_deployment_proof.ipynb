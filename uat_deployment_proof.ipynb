{
 "cells": [
  {
   "cell_type": "code",
   "execution_count": 1,
   "id": "4f59a9a6-b33a-4abe-b171-1b34c3e6597c",
   "metadata": {},
   "outputs": [],
   "source": [
    "from data_structures.elements import Number\n"
   ]
  },
  {
   "cell_type": "code",
   "execution_count": 2,
   "id": "ef846dc1-38fa-4ba0-9a73-b1aa49577960",
   "metadata": {},
   "outputs": [],
   "source": [
    "x = Number(2.1)\n"
   ]
  }
 ],
 "metadata": {
  "kernelspec": {
   "display_name": "Python 3 (ipykernel)",
   "language": "python",
   "name": "python3"
  },
  "language_info": {
   "codemirror_mode": {
    "name": "ipython",
    "version": 3
   },
   "file_extension": ".py",
   "mimetype": "text/x-python",
   "name": "python",
   "nbconvert_exporter": "python",
   "pygments_lexer": "ipython3",
   "version": "3.9.6"
  }
 },
 "nbformat": 4,
 "nbformat_minor": 5
}
