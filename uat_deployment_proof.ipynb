{
 "cells": [
  {
   "cell_type": "code",
   "execution_count": 1,
   "id": "4f59a9a6-b33a-4abe-b171-1b34c3e6597c",
   "metadata": {
    "execution": {
     "iopub.execute_input": "2021-08-16T19:01:46.867115Z",
     "iopub.status.busy": "2021-08-16T19:01:46.866568Z",
     "iopub.status.idle": "2021-08-16T19:01:46.870566Z",
     "shell.execute_reply": "2021-08-16T19:01:46.870026Z"
    }
   },
   "outputs": [],
   "source": [
    "from data_structures.elements import Number\n",
    "from data_structures.stacks import Stack\n"
   ]
  },
  {
   "cell_type": "code",
   "execution_count": 2,
   "id": "ef846dc1-38fa-4ba0-9a73-b1aa49577960",
   "metadata": {
    "execution": {
     "iopub.execute_input": "2021-08-16T19:01:46.874077Z",
     "iopub.status.busy": "2021-08-16T19:01:46.873605Z",
     "iopub.status.idle": "2021-08-16T19:01:46.875831Z",
     "shell.execute_reply": "2021-08-16T19:01:46.875336Z"
    }
   },
   "outputs": [],
   "source": [
    "x = Number(2.1)\n"
   ]
  },
  {
   "cell_type": "code",
   "execution_count": 3,
   "id": "24473c89-2e79-441b-86df-c9817c4a84c9",
   "metadata": {
    "execution": {
     "iopub.execute_input": "2021-08-16T19:01:46.880105Z",
     "iopub.status.busy": "2021-08-16T19:01:46.879221Z",
     "iopub.status.idle": "2021-08-16T19:01:46.882261Z",
     "shell.execute_reply": "2021-08-16T19:01:46.882664Z"
    }
   },
   "outputs": [],
   "source": [
    "stack = Stack()\n"
   ]
  },
  {
   "cell_type": "code",
   "execution_count": 4,
   "id": "11cebe1f-a284-43a2-bf76-dfae5128f54f",
   "metadata": {
    "execution": {
     "iopub.execute_input": "2021-08-16T19:01:46.886599Z",
     "iopub.status.busy": "2021-08-16T19:01:46.885920Z",
     "iopub.status.idle": "2021-08-16T19:01:46.887364Z",
     "shell.execute_reply": "2021-08-16T19:01:46.887748Z"
    }
   },
   "outputs": [],
   "source": [
    "stack.push(x)\n",
    "stack.push(3)\n",
    "stack.push(\"asd\")\n"
   ]
  },
  {
   "cell_type": "code",
   "execution_count": 5,
   "id": "1f5dddc4-343b-4ab9-a2af-62f1fb8c88f9",
   "metadata": {
    "execution": {
     "iopub.execute_input": "2021-08-16T19:01:46.897299Z",
     "iopub.status.busy": "2021-08-16T19:01:46.896615Z",
     "iopub.status.idle": "2021-08-16T19:01:46.899793Z",
     "shell.execute_reply": "2021-08-16T19:01:46.900200Z"
    }
   },
   "outputs": [
    {
     "data": {
      "text/plain": [
       "Stack Elements: 2.1; 3; asd"
      ]
     },
     "execution_count": 5,
     "metadata": {},
     "output_type": "execute_result"
    }
   ],
   "source": [
    "stack\n"
   ]
  },
  {
   "cell_type": "code",
   "execution_count": 6,
   "id": "877ea0da-1d1d-4a03-adc1-83e54ddae78e",
   "metadata": {
    "execution": {
     "iopub.execute_input": "2021-08-16T19:01:46.904494Z",
     "iopub.status.busy": "2021-08-16T19:01:46.903988Z",
     "iopub.status.idle": "2021-08-16T19:01:46.906310Z",
     "shell.execute_reply": "2021-08-16T19:01:46.906694Z"
    }
   },
   "outputs": [
    {
     "data": {
      "text/plain": [
       "'asd'"
      ]
     },
     "execution_count": 6,
     "metadata": {},
     "output_type": "execute_result"
    }
   ],
   "source": [
    "stack.pop()\n"
   ]
  }
 ],
 "metadata": {
  "kernelspec": {
   "display_name": "Python 3 (ipykernel)",
   "language": "python",
   "name": "python3"
  },
  "language_info": {
   "codemirror_mode": {
    "name": "ipython",
    "version": 3
   },
   "file_extension": ".py",
   "mimetype": "text/x-python",
   "name": "python",
   "nbconvert_exporter": "python",
   "pygments_lexer": "ipython3",
   "version": "3.9.6"
  }
 },
 "nbformat": 4,
 "nbformat_minor": 5
}
